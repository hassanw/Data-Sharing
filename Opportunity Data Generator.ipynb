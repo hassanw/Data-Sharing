{
 "cells": [
  {
   "cell_type": "code",
   "execution_count": 202,
   "metadata": {
    "collapsed": true
   },
   "outputs": [],
   "source": [
    "import numpy as np\n",
    "import pandas as pd\n",
    "import random\n"
   ]
  },
  {
   "cell_type": "code",
   "execution_count": 203,
   "metadata": {
    "collapsed": true
   },
   "outputs": [],
   "source": [
    "df = pd.read_csv(\"data-raw.csv\")\n",
    "df[\"Status Start Date\"] = pd.to_datetime(df[\"Status Start Date\"])\n",
    "df[\"Status End Date\"] = pd.to_datetime(df[\"Status End Date\"])\n"
   ]
  },
  {
   "cell_type": "code",
   "execution_count": null,
   "metadata": {
    "collapsed": true
   },
   "outputs": [],
   "source": [
    "def update_revenue_profit(x,column_name):\n",
    "    if(x[\"Sales Stage\"] != \"Closed\"):\n",
    "        return x[column_name] * np.random.uniform(96,100)        \n",
    "    else:\n",
    "        return x[column_name]\n",
    "    \n",
    "def update_end_date(x):\n",
    "    if(x[\"Sales Stage\"] != \"Closed\"):\n",
    "        return x[\"Status End Date\"]+pd.DateOffset(np.random.randint(5,50))\n",
    "    else:\n",
    "        return x[\"Status End Date\"]\n",
    "\n",
    "\n",
    "def create_dataset_by_status_percentage(df,status,percentage):    \n",
    "    df = df.loc[df[\"Sales Stage\"] != \"Closed\"] #Get rows where status is not Closed\n",
    "    df.index = range(len(df.index))\n",
    "    df[\"Sales Stage\"] = \"Closed\" #First Set All rows to Closed\n",
    "    rand_index = random.sample(range(0,df.shape[0]),int(percentage*float(df.shape[0]))) #randomly select rows not to mark closed\n",
    "    df.loc[rand_index,\"Sales Stage\"] = status  #set the status of random indexes to \"Status\"\n",
    "    df.loc[:,\"Status Start Date\"] = df.loc[:,\"Status End Date\"] #Set Start Date to End Date of Previous status\n",
    "    df.apply(lambda x:update_end_date(x),axis=1) #Update End Date to new date when status is not closed\n",
    "    df.apply(lambda x:update_revenue_profit(x,\"Revenue\"),axis=1) #Update Revenue when status is not closed\n",
    "    df.apply(lambda x:update_revenue_profit(x,\"Net Revenue\"),axis=1) #Update Net Revnue when status is not closed\n",
    "    df.index = range(len(df.index))\n",
    "    return df;\n",
    "\n"
   ]
  },
  {
   "cell_type": "code",
   "execution_count": null,
   "metadata": {},
   "outputs": [],
   "source": [
    "q = create_dataset_by_status_percentage(df,\"Qualify\",np.random.uniform(0.65,0.85))\n",
    "df = df.append(q)\n",
    "s = create_dataset_by_status_percentage(q,\"Solution\",np.random.uniform(0.55,0.75))\n",
    "df = df.append(s)\n",
    "p = create_dataset_by_status_percentage(s,\"Proposal\",np.random.uniform(0.60,0.87))\n",
    "df = df.append(p)\n",
    "d = create_dataset_by_status_percentage(p,\"Deal\",np.random.uniform(0.78,0.95))\n",
    "df = df.append(d)\n",
    "df.to_csv(\"opportunity_data_complete.csv\")\n"
   ]
  },
  {
   "cell_type": "code",
   "execution_count": null,
   "metadata": {},
   "outputs": [],
   "source": [
    "d.shape"
   ]
  }
 ],
 "metadata": {
  "kernelspec": {
   "display_name": "Python [default]",
   "language": "python",
   "name": "python3"
  },
  "language_info": {
   "codemirror_mode": {
    "name": "ipython",
    "version": 3
   },
   "file_extension": ".py",
   "mimetype": "text/x-python",
   "name": "python",
   "nbconvert_exporter": "python",
   "pygments_lexer": "ipython3",
   "version": "3.5.3"
  }
 },
 "nbformat": 4,
 "nbformat_minor": 2
}
