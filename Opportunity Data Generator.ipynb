{
 "cells": [
  {
   "cell_type": "code",
   "execution_count": 102,
   "metadata": {
    "collapsed": true
   },
   "outputs": [],
   "source": [
    "import numpy as np\n",
    "import pandas as pd\n",
    "import random\n"
   ]
  },
  {
   "cell_type": "code",
   "execution_count": 109,
   "metadata": {
    "collapsed": true
   },
   "outputs": [],
   "source": [
    "def update_revenue_profit(x,column_name):\n",
    "    if(x[\"Sales Stage\"] != \"Closed\"):\n",
    "        return x[column_name] * np.random.uniform(96,100)        \n",
    "    else:\n",
    "        return x[column_name]\n",
    "    \n",
    "def update_end_date(x):\n",
    "    if(x[\"Sales Stage\"] != \"Closed\"):\n",
    "        return x[\"Status End Date\"]+pd.DateOffset(np.random.randint(5,50))\n",
    "    else:\n",
    "        return x[\"Status End Date\"]\n",
    "\n",
    "\n",
    "def create_dataset_by_status_percentage(data,status,percentage_next,percentage_open,status_previous):    \n",
    "    #data = data.loc[data[\"Sales Stage\"] != \"Closed\"] #Get rows where status is not Closed\n",
    "    data = data.loc[data[\"Sales Stage\"] == status_previous] #Get rows where status is not the previous status\n",
    "    data.index = range(len(data.index))\n",
    "    data[\"Sales Stage\"] = \"Closed\" #First Set All rows to Closed\n",
    "    rand_index = random.sample(range(0,data.shape[0]),int(percentage_next*float(data.shape[0]))) #randomly select rows not to mark closed\n",
    "    rand_index_open = random.sample(range(0,data.shape[0]),int(percentage_open*float(data.shape[0]))) #randomly select rows not to mark closed\n",
    "    data.loc[rand_index,\"Sales Stage\"] = status  #set the status of random indexes to \"Status\"\n",
    "    data.loc[rand_index_open,\"Sales Stage\"] = status_previous  #set the status of random indexes to previous status as open opportunities\n",
    "    data.loc[:,\"Status Start Date\"] = data.loc[:,\"Status End Date\"] #Set Start Date to End Date of Previous status    \n",
    "    data.apply(lambda x:update_end_date(x),axis=1) #Update End Date to new date when status is not closed\n",
    "    data.apply(lambda x:update_revenue_profit(x,\"Revenue\"),axis=1) #Update Revenue when status is not closed\n",
    "    data.apply(lambda x:update_revenue_profit(x,\"Net Revenue\"),axis=1) #Update Net Revnue when status is not closed\n",
    "    data.loc[rand_index_open,\"Status End Date\"] = None #Set Start Date to End Date of Previous status    \n",
    "    data.index = range(len(data.index))\n",
    "    return data;\n",
    "\n"
   ]
  },
  {
   "cell_type": "code",
   "execution_count": 139,
   "metadata": {},
   "outputs": [
    {
     "name": "stderr",
     "output_type": "stream",
     "text": [
      "C:\\Users\\ahmad22h\\Anaconda3\\lib\\site-packages\\ipykernel_launcher.py:18: SettingWithCopyWarning: \n",
      "A value is trying to be set on a copy of a slice from a DataFrame.\n",
      "Try using .loc[row_indexer,col_indexer] = value instead\n",
      "\n",
      "See the caveats in the documentation: http://pandas.pydata.org/pandas-docs/stable/indexing.html#indexing-view-versus-copy\n",
      "C:\\Users\\ahmad22h\\Anaconda3\\lib\\site-packages\\pandas\\core\\indexing.py:517: SettingWithCopyWarning: \n",
      "A value is trying to be set on a copy of a slice from a DataFrame.\n",
      "Try using .loc[row_indexer,col_indexer] = value instead\n",
      "\n",
      "See the caveats in the documentation: http://pandas.pydata.org/pandas-docs/stable/indexing.html#indexing-view-versus-copy\n",
      "  self.obj[item] = s\n"
     ]
    }
   ],
   "source": [
    "df = pd.read_csv(\"data-raw.csv\")\n",
    "df[\"Status Start Date\"] = pd.to_datetime(df[\"Status Start Date\"])\n",
    "df[\"Status End Date\"] = pd.to_datetime(df[\"Status End Date\"])\n",
    "\n",
    "q = create_dataset_by_status_percentage(df,\"Qualify\",np.random.uniform(0.65,0.85),np.random.uniform(0.25,0.45),\"Lead\")\n",
    "lead_open = q.loc[q[\"Sales Stage\"] == \"Lead\"][\"Name\"]\n",
    "df = df.loc[~df[\"Name\"].isin(lead_open.values)]\n",
    "df = df.append(q)\n",
    "\n",
    "s = create_dataset_by_status_percentage(q,\"Solution\",np.random.uniform(0.55,0.75),np.random.uniform(0.15,0.20),\"Qualify\")\n",
    "df = df.append(s)\n",
    "p = create_dataset_by_status_percentage(s,\"Proposal\",np.random.uniform(0.60,0.87),np.random.uniform(0.18,0.28),\"Solution\")\n",
    "df = df.append(p)\n",
    "d = create_dataset_by_status_percentage(p,\"Deal\",np.random.uniform(0.78,0.95),np.random.uniform(0.15,0.25),\"Proposal\")\n",
    "df = df.append(d)\n"
   ]
  },
  {
   "cell_type": "code",
   "execution_count": 141,
   "metadata": {},
   "outputs": [],
   "source": [
    "df.to_csv(\"opportunity_data_complete.csv\")\n"
   ]
  }
 ],
 "metadata": {
  "kernelspec": {
   "display_name": "Python 3",
   "language": "python",
   "name": "python3"
  },
  "language_info": {
   "codemirror_mode": {
    "name": "ipython",
    "version": 3
   },
   "file_extension": ".py",
   "mimetype": "text/x-python",
   "name": "python",
   "nbconvert_exporter": "python",
   "pygments_lexer": "ipython3",
   "version": "3.6.1"
  }
 },
 "nbformat": 4,
 "nbformat_minor": 2
}
