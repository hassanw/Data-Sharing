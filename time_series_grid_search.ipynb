{
 "cells": [
  {
   "cell_type": "code",
   "execution_count": 2,
   "metadata": {},
   "outputs": [
    {
     "name": "stdout",
     "output_type": "stream",
     "text": [
      "Best: 0.000800 using {'batch_size': 1000, 'epochs': 300, 'init': 'glorot_uniform', 'optimizer': 'adam'}\n",
      "0.000000 (0.000000) with: {'batch_size': 500, 'epochs': 10, 'init': 'glorot_uniform', 'optimizer': 'adam'}\n",
      "0.000000 (0.000000) with: {'batch_size': 500, 'epochs': 50, 'init': 'glorot_uniform', 'optimizer': 'adam'}\n",
      "0.000000 (0.000000) with: {'batch_size': 500, 'epochs': 100, 'init': 'glorot_uniform', 'optimizer': 'adam'}\n",
      "0.000000 (0.000000) with: {'batch_size': 500, 'epochs': 200, 'init': 'glorot_uniform', 'optimizer': 'adam'}\n",
      "0.000400 (0.000566) with: {'batch_size': 500, 'epochs': 300, 'init': 'glorot_uniform', 'optimizer': 'adam'}\n",
      "0.000000 (0.000000) with: {'batch_size': 1000, 'epochs': 10, 'init': 'glorot_uniform', 'optimizer': 'adam'}\n",
      "0.000000 (0.000000) with: {'batch_size': 1000, 'epochs': 50, 'init': 'glorot_uniform', 'optimizer': 'adam'}\n",
      "0.000400 (0.000566) with: {'batch_size': 1000, 'epochs': 100, 'init': 'glorot_uniform', 'optimizer': 'adam'}\n",
      "0.000400 (0.000566) with: {'batch_size': 1000, 'epochs': 200, 'init': 'glorot_uniform', 'optimizer': 'adam'}\n",
      "0.000800 (0.001131) with: {'batch_size': 1000, 'epochs': 300, 'init': 'glorot_uniform', 'optimizer': 'adam'}\n",
      "0.000400 (0.000566) with: {'batch_size': 2000, 'epochs': 10, 'init': 'glorot_uniform', 'optimizer': 'adam'}\n",
      "0.000000 (0.000000) with: {'batch_size': 2000, 'epochs': 50, 'init': 'glorot_uniform', 'optimizer': 'adam'}\n",
      "0.000000 (0.000000) with: {'batch_size': 2000, 'epochs': 100, 'init': 'glorot_uniform', 'optimizer': 'adam'}\n",
      "0.000000 (0.000000) with: {'batch_size': 2000, 'epochs': 200, 'init': 'glorot_uniform', 'optimizer': 'adam'}\n",
      "0.000000 (0.000000) with: {'batch_size': 2000, 'epochs': 300, 'init': 'glorot_uniform', 'optimizer': 'adam'}\n"
     ]
    }
   ],
   "source": [
    "# MLP for Pima Indians Dataset with grid search via sklearn\n",
    "from keras.models import Sequential\n",
    "from keras.layers import Dense\n",
    "import numpy as np\n",
    "import pandas as pd\n",
    "from keras.wrappers.scikit_learn import KerasClassifier\n",
    "from sklearn.model_selection import GridSearchCV\n",
    "import numpy\n",
    "\n",
    "# Function to create model, required for KerasClassifier\n",
    "def create_model(optimizer='rmsprop', init='glorot_uniform'):\n",
    "    # create model\n",
    "    model = Sequential()\n",
    "    model.add(Dense(10,input_dim=1,activation=\"relu\"))\n",
    "    model.add(Dense(1,activation=\"linear\"))\n",
    "    model.compile(loss='mse', optimizer=optimizer,metrics=['accuracy'])\n",
    "    # Compile model    \n",
    "    return model\n",
    "\n",
    "data = pd.read_csv(\"sine_wave_timeseries_data.csv\",);\n",
    "data = data[[\"value\"]]\n",
    "labels = data[1:20000]\n",
    "data = data[0:19999]\n",
    "train_size = int(float(data.shape[0])*0.50)\n",
    "X_train,X_test = data[0:train_size].values,data[train_size:].values\n",
    "y_train,y_test = labels[0:train_size].values,labels[train_size:].values\n",
    "\n",
    "# create model\n",
    "model = KerasClassifier(build_fn=create_model, verbose=0)\n",
    "# grid search epochs, batch size and optimizer\n",
    "optimizers = ['adam']\n",
    "init = ['glorot_uniform']\n",
    "epochs = [10,50,100,200,300]\n",
    "batches = [500,1000,2000]\n",
    "param_grid = dict(optimizer=optimizers, epochs=epochs, batch_size=batches, init=init)\n",
    "grid = GridSearchCV(estimator=model, param_grid=param_grid)\n",
    "grid_result = grid.fit(X_train, y_train)\n",
    "# summarize results\n",
    "print(\"Best: %f using %s\" % (grid_result.best_score_, grid_result.best_params_))\n",
    "means = grid_result.cv_results_['mean_test_score']\n",
    "stds = grid_result.cv_results_['std_test_score']\n",
    "params = grid_result.cv_results_['params']\n",
    "for mean, stdev, param in zip(means, stds, params):\n",
    "    print(\"%f (%f) with: %r\" % (mean, stdev, param))"
   ]
  }
 ],
 "metadata": {
  "kernelspec": {
   "display_name": "Python 3",
   "language": "python",
   "name": "python3"
  },
  "language_info": {
   "codemirror_mode": {
    "name": "ipython",
    "version": 3
   },
   "file_extension": ".py",
   "mimetype": "text/x-python",
   "name": "python",
   "nbconvert_exporter": "python",
   "pygments_lexer": "ipython3",
   "version": "3.6.1"
  }
 },
 "nbformat": 4,
 "nbformat_minor": 2
}
